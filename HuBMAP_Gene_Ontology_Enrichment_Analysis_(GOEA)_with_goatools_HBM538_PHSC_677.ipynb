{
 "cells": [
  {
   "cell_type": "markdown",
   "id": "df3bd0c5",
   "metadata": {},
   "source": [
    "# <span style=\"color:blue\">Title: Gene Ontology Enrichmen Analysis (GOEA) with </span><span style=\"color:red\">Python's goatools.</span>"
   ]
  },
  {
   "cell_type": "markdown",
   "id": "73c09b11",
   "metadata": {},
   "source": [
    "# <span style=\"color:blue\">Gene Ontology Enrichment Analysis (GOEA) Python Tutorial<span style=\"color:blue\">.</span>\n",
    "* ## References\n",
    "    * ## Tang H. goatools: Python library to handle Gene Ontology (GO) terms.\n",
    "        * ## Process over- and under-representation of certain GO terms, based on Fisher's exact test. With numerous multiple correction routines including locally implemented routines for Bonferroni, Sidak, Holm, and false discovery rate. Also included are multiple test corrections from statsmodels: FDR Benjamini/Hochberg, FDR Benjamini/Yekutieli, Holm-Sidak, Simes-Hochberg, Hommel, FDR 2-stage Benjamini-Hochberg, FDR 2-stage Benjamini-Krieger-Yekutieli, FDR adaptive Gavrilov-Benjamini-Sarkar, Bonferroni, Sidak, and Holm.\n",
    "\n",
    "    * ## Gene ontology python tutorial. 2022 Feb 23. Kaggle.com. [accessed 2023 Oct 22]. https://www.kaggle.com/code/alexandervc/gene-ontology-python-tutorial.\n",
    "    \n",
    "    * ## Sanbomics. 2022 May 15. How to do gene ontology analysis in python. [accessed 2023 Oct 22]. https://www.youtube.com/watch?v=ONiWugVEf2s."
   ]
  },
  {
   "cell_type": "markdown",
   "id": "96604adb",
   "metadata": {},
   "source": [
    "# <span style=\"color:blue\">Competency</span>\n",
    "* ## Become proficient in performing gene ontology enrichment analysis for marker genes from HuBMAP's scRNA-seq."
   ]
  },
  {
   "cell_type": "markdown",
   "id": "f27c941f",
   "metadata": {},
   "source": [
    "# <span style=\"color:blue\">Objectives</span>\n",
    "* ## Define the list of marker genes for a cluster of interest from a HuBMAP data analysis.\n",
    "* ## Perform Gene Ontology Enrichment Analysis (GOEA) for a cluster of interest from a HuBMAP data analysis."
   ]
  },
  {
   "cell_type": "markdown",
   "id": "51ee177d",
   "metadata": {},
   "source": [
    "# <span style=\"color:blue\">Install the required </span><span style=\"color:red\">Python libraries</span><span style=\"color:blue\"> to conduct the </span><span style=\"color:red\">gene ontology analysis</span><span style=\"color:blue\">.</span>"
   ]
  },
  {
   "cell_type": "code",
   "execution_count": null,
   "id": "3dd5ab72",
   "metadata": {},
   "outputs": [],
   "source": [
    "# Install goatools\n",
    "!pip install goatools -q\n",
    "\n",
    "# Install pandas\n",
    "!pip install pandas -q"
   ]
  },
  {
   "cell_type": "markdown",
   "id": "47c6a737",
   "metadata": {},
   "source": [
    "# <span style=\"color:blue\">Load required </span><span style=\"color:red\">Python libraries</span><span style=\"color:blue\">.</span>"
   ]
  },
  {
   "cell_type": "code",
   "execution_count": null,
   "id": "f490d153",
   "metadata": {},
   "outputs": [],
   "source": [
    "# goattols: A Python library for Gene Ontology analyses\n",
    "\n",
    "# Import the OBO parser from goatools\n",
    "#     Open Biomedical Ontologies (OBO)\n",
    "from goatools import obo_parser\n",
    "\n",
    "#import os\n",
    "import os\n",
    "\n",
    "# import pandas\n",
    "import pandas as pd"
   ]
  },
  {
   "cell_type": "markdown",
   "id": "c71c0bea",
   "metadata": {},
   "source": [
    "# <span style=\"color:blue\">Create a list for the marker genes from the scRNA-seq data analysis obtained with Python's library scanpy.</span>"
   ]
  },
  {
   "cell_type": "code",
   "execution_count": null,
   "id": "e12f49b9",
   "metadata": {},
   "outputs": [],
   "source": [
    "marker_genes_c0_vs_rest = ['RPS3A', 'RPS12', 'EEF1A1', 'RPL10', 'RPS2', 'RPL3', 'RPL18A', 'RPL32', 'RPL13', 'RPS4X', 'RPS3',\n",
    "                           'RPS19', 'RPS8', 'RPS15A', 'RPS6', 'RPS13', 'RPS27A', 'RPS24', 'RPL19', 'RPL11', 'RPL34', 'RPS18',\n",
    "                           'RPS18', 'RPL29', 'RPS10']"
   ]
  },
  {
   "cell_type": "markdown",
   "id": "f3051674",
   "metadata": {},
   "source": [
    "# <span style=\"color:blue\">Obtain the background gene set from NCBI.</span>\n",
    "* ## Connect to https://www.ncbi.nlm.nih.gov/gene/\n",
    "\n",
    "* ## Copy and paste the text in blue into the NCBI gene search field <span style=\"color:red\">\"9606\"[Taxonomy ID] AND alive[property] AND genetype protein coding[Properties]</span>\n",
    "    * ## <span style=\"color:blue\">9606</span> is the taxonomy ID for <span style=\"color:blue\">Homo sapiens</span>.\n",
    "    * ## <span style=\"color:blue\">alive[property]</span> is used to obtain the records that are current and primary (i.e., not secondary or discontinued). \n",
    "* ## Download NCBI results by send it into a tabular (text) file.\n",
    "* ## Rename the file from <span style=\"color:red\">gene_result.txt</span> to <span style=\"color:blue\">gene_result_human.txt</span>.\n",
    "* ## Move the file from download into your working directory."
   ]
  },
  {
   "cell_type": "markdown",
   "id": "97fad3b5",
   "metadata": {},
   "source": [
    "# Now we need to locate the Python script <span style=\"color:blue\">ncbi_gene_results_to_python.py</span> that was installed in the Python directory.\n",
    "* ## This information is provided by the PSC's Software Specialist Iván Cao-Berg.\n",
    "* ## Edit if necessary the path to the file <span style=\"color:blue\">ncbi_gene_results_to_python.py</span> in the following line to convert NCBI Gene tabular file to a Python module.\n",
    "    * ## !python <span style=\"color:red\">/jet/home/$(whoami)/.local/lib/python3.9/site-packages/goatools/cli/ncbi_gene_results_to_python.py</span> <span style=\"color:blue\">-o genes_ncbi_homo_sapiens_proteincoding.py</span> <span style=\"color:green\">gene_result_human.txt</span> -o means output file."
   ]
  },
  {
   "cell_type": "code",
   "execution_count": null,
   "id": "47ed78ec",
   "metadata": {},
   "outputs": [],
   "source": [
    "!python /jet/home/$(whoami)/.local/lib/python3.9/site-packages/goatools/cli/ncbi_gene_results_to_python.py -o genes_ncbi_homo_sapiens_proteincoding.py gene_result_human.txt"
   ]
  },
  {
   "cell_type": "markdown",
   "id": "48ddf1ae",
   "metadata": {},
   "source": [
    "# Load <span style=\"color:blue\">Background Gene Set</span> for <span style=\"color:blue\">Human</span>\n",
    "* ## Now we import NCBI data from the Python module <span style=\"color:red\">genes_ncbi_homo_sapiens_proteincoding.py</span> that was created in the previous step and we will call it <span style=\"color:blue\">Gene2IDnt_human</span>.\n",
    "* ## All of the background genes for our HuBMAP dataset code for human proteins."
   ]
  },
  {
   "cell_type": "code",
   "execution_count": null,
   "id": "89e7bd57",
   "metadata": {},
   "outputs": [],
   "source": [
    "from genes_ncbi_homo_sapiens_proteincoding import GENEID2NT as GeneID2nt_human\n",
    "\n",
    "# Display the length of the GeneID2nt_human variable.\n",
    "print('Length of GeneID2nt_human =', len(GeneID2nt_human))"
   ]
  },
  {
   "cell_type": "markdown",
   "id": "d8b40b32",
   "metadata": {},
   "source": [
    "# <span style=\"color:blue\">Load required </span><span style=\"color:red\">goatools packages</span><span style=\"color:blue\">.</span>"
   ]
  },
  {
   "cell_type": "code",
   "execution_count": null,
   "id": "4bf1fee8",
   "metadata": {},
   "outputs": [],
   "source": [
    "from goatools.base import download_go_basic_obo\n",
    "from goatools.base import download_ncbi_associations\n",
    "from goatools.obo_parser import GODag\n",
    "from goatools.anno.genetogo_reader import Gene2GoReader\n",
    "from goatools.goea.go_enrichment_ns import GOEnrichmentStudyNS"
   ]
  },
  {
   "cell_type": "markdown",
   "id": "d6e4f8f0",
   "metadata": {},
   "source": [
    "# <span style=\"color:blue\">Download Ontologies</span>"
   ]
  },
  {
   "cell_type": "code",
   "execution_count": null,
   "id": "85e25ba4",
   "metadata": {},
   "outputs": [],
   "source": [
    "# Download Ontologies\n",
    "#     Open Biomedical Ontologies (OBO)\n",
    "obo_file_name = download_go_basic_obo()"
   ]
  },
  {
   "cell_type": "markdown",
   "id": "d06ffb3a",
   "metadata": {},
   "source": [
    "# <span style=\"color:blue\">Load Ontologies</span>"
   ]
  },
  {
   "cell_type": "code",
   "execution_count": null,
   "id": "c6df66e3",
   "metadata": {},
   "outputs": [],
   "source": [
    "# Load Ontologies\n",
    "#   Open Biomedical Ontologies (OBO)\n",
    "#   Gene Ontology Directed Acyclic Graphs\n",
    "obo_dag = GODag(\"go-basic.obo\")"
   ]
  },
  {
   "cell_type": "markdown",
   "id": "a128f78b",
   "metadata": {},
   "source": [
    "# <span style=\"color:blue\">Display Ontologies, a dictionary of GO terms and its metadata.</span>"
   ]
  },
  {
   "cell_type": "code",
   "execution_count": null,
   "id": "e3b568ec",
   "metadata": {},
   "outputs": [],
   "source": [
    "# Display obo_dag\n",
    "obo_dag"
   ]
  },
  {
   "cell_type": "markdown",
   "id": "b46eee24",
   "metadata": {},
   "source": [
    "# <span style=\"color:blue\">Download Associations</span>\n",
    "* ## There are several species in the NCBI gene2go dataset.\n",
    "* ## But we will choose Human."
   ]
  },
  {
   "cell_type": "code",
   "execution_count": null,
   "id": "fa0791b9",
   "metadata": {},
   "outputs": [],
   "source": [
    "# Download Associations\n",
    "input_file_gene2go = download_ncbi_associations()"
   ]
  },
  {
   "cell_type": "markdown",
   "id": "1666e858",
   "metadata": {},
   "source": [
    "# <span style=\"color:blue\">Load Associations</span>\n",
    "* ## <span style=\"color:blue\">9606</span> is the taxonomy ID for <span style=\"color:blue\">Homo sapiens</span>"
   ]
  },
  {
   "cell_type": "code",
   "execution_count": null,
   "id": "dcf929a2",
   "metadata": {},
   "outputs": [],
   "source": [
    "# Read NCBI annotation file, \"gene2go\" for human.\n",
    "#    9606 is the taxonomy ID for Homo sapiens\n",
    "objanno = Gene2GoReader(input_file_gene2go, taxids=[9606])\n",
    "\n",
    "# namespace2association:\n",
    "#    namespace:\n",
    "#        BP: Biological Process\n",
    "#        CC: Cellular Component\n",
    "#        MF: Molecular Function\n",
    "#\n",
    "#    assocation (dictionary):\n",
    "#        key: NCBI GeneID\n",
    "#        value: A set of GO IDs associated with that gene\n",
    "ns2assoc = objanno.get_ns2assc()"
   ]
  },
  {
   "cell_type": "markdown",
   "id": "5f92ef09",
   "metadata": {},
   "source": [
    "# <span style=\"color:blue\">Display Associations</span>"
   ]
  },
  {
   "cell_type": "code",
   "execution_count": null,
   "id": "dc3d75a1",
   "metadata": {},
   "outputs": [],
   "source": [
    "# Display Associations for Biological Process\n",
    "ns2assoc['BP']"
   ]
  },
  {
   "cell_type": "code",
   "execution_count": null,
   "id": "6a4e7c4e",
   "metadata": {},
   "outputs": [],
   "source": [
    "# Display Associations for Cellular Component\n",
    "ns2assoc['CC']"
   ]
  },
  {
   "cell_type": "code",
   "execution_count": null,
   "id": "e8978358",
   "metadata": {},
   "outputs": [],
   "source": [
    "# Display Associations for Molecular Function\n",
    "ns2assoc['MF']"
   ]
  },
  {
   "cell_type": "markdown",
   "id": "8373ab00",
   "metadata": {},
   "source": [
    "# <span style=\"color:blue\">Create a dictionary called mapper with the gene symbols as the key and the gene ID number as the value.</span>\n",
    "* ## We need this dictionary because our scRNA-seq data uses the gene HUGO symbols."
   ]
  },
  {
   "cell_type": "code",
   "execution_count": null,
   "id": "6d9ac61d",
   "metadata": {},
   "outputs": [],
   "source": [
    "# Initialize the variable mapper as an emtpy dictionary.\n",
    "mapper = {}\n",
    "\n",
    "# Traverse the GeneID2nt_human dictionary.\n",
    "for key in GeneID2nt_human:\n",
    "    mapper[GeneID2nt_human[key].Symbol] = GeneID2nt_human[key].GeneID\n",
    "\n",
    "# Create another dictionary called inv_map with the Gene ID number as the key and the gene symbol as the value.\n",
    "inv_map = {v: k for k, v in mapper.items()}"
   ]
  },
  {
   "cell_type": "markdown",
   "id": "4dd453f1",
   "metadata": {},
   "source": [
    "# <span style=\"color:blue\">Display the dictionary mapper.</span>"
   ]
  },
  {
   "cell_type": "code",
   "execution_count": null,
   "id": "37e15cc7",
   "metadata": {},
   "outputs": [],
   "source": [
    "# Display the dictionary mapper.\n",
    "mapper"
   ]
  },
  {
   "cell_type": "markdown",
   "id": "fc80fd17",
   "metadata": {},
   "source": [
    "# <span style=\"color:blue\">Display the dictionary inv_map.</span>"
   ]
  },
  {
   "cell_type": "code",
   "execution_count": null,
   "id": "3f88492a",
   "metadata": {
    "scrolled": true
   },
   "outputs": [],
   "source": [
    "# Display the dictionary inv_map.\n",
    "inv_map"
   ]
  },
  {
   "cell_type": "markdown",
   "id": "c36d4c24",
   "metadata": {},
   "source": [
    "# Display the information for the <span style=\"color:blue\">Gene ID 1353</span> from the variable <span style=\"color:blue\">GeneID2nt_human</span>."
   ]
  },
  {
   "cell_type": "code",
   "execution_count": null,
   "id": "377b1307",
   "metadata": {},
   "outputs": [],
   "source": [
    "GeneID2nt_human[1353]"
   ]
  },
  {
   "cell_type": "markdown",
   "id": "b8a78ee4",
   "metadata": {},
   "source": [
    "# <span style=\"color:blue\">Run the function GOEnrichmentStudyNS to initialize the GO object.</span>\n",
    "* ## We will use the GO Enrichment Analysis objetc (variable goea_obj) for running enrichment studies.\n",
    "* ## The Gene Ontology Enrichment Analysis Object (variable goea_obj) contains the Ontologies, Associations, and background genes."
   ]
  },
  {
   "cell_type": "code",
   "execution_count": null,
   "id": "29e389e7",
   "metadata": {},
   "outputs": [],
   "source": [
    "# Initialize the goea_obj by running the GOEnrichmentStudyNS function.\n",
    "goea_obj = GOEnrichmentStudyNS(\n",
    "        GeneID2nt_human.keys(), # List of human protein-coding genes.\n",
    "        ns2assoc, # Gene ID / GO Associations\n",
    "        obo_dag, # Ontologies\n",
    "        propagate_counts = False, # Use the annotations in their original form with no modifications.\n",
    "        alpha = 0.05, # default significance cut-off\n",
    "        methods = ['fdr_bh']) # defult multipletest correction method"
   ]
  },
  {
   "cell_type": "markdown",
   "id": "845ff982",
   "metadata": {},
   "source": [
    "# <span style=\"color:blue\">Create a list of all GO terms combined from Biological Process, Cellular Component, and Molecular Function.</span>"
   ]
  },
  {
   "cell_type": "code",
   "execution_count": null,
   "id": "d30136b5",
   "metadata": {},
   "outputs": [],
   "source": [
    "# Create a list of all the GO terms.\n",
    "GO_terms_list = []\n",
    "\n",
    "# Travers the GO terms for Biological Process.\n",
    "temp_bp = goea_obj.ns2objgoea['BP'].assoc\n",
    "for item in temp_bp:\n",
    "    GO_terms_list += temp_bp[item]\n",
    "    \n",
    "# Travers the GO terms for Cellular Component.\n",
    "temp_cc = goea_obj.ns2objgoea['CC'].assoc\n",
    "for item in temp_cc:\n",
    "    GO_terms_list += temp_cc[item]\n",
    "\n",
    "# Traverse the GO terms for Molecular Function.\n",
    "temp_mf = goea_obj.ns2objgoea['MF'].assoc\n",
    "for item in temp_mf:\n",
    "    GO_terms_list += temp_mf[item]"
   ]
  },
  {
   "cell_type": "markdown",
   "id": "49d1155f",
   "metadata": {},
   "source": [
    "# <span style=\"color:blue\">Display the count of genes that are associated to a specific GO term.</span>\n",
    "* ## As an example we will use <span style=\"color:blue\">GO Molecular Function GO:0002020 Protease Binding</span>."
   ]
  },
  {
   "cell_type": "code",
   "execution_count": null,
   "id": "ad599698",
   "metadata": {},
   "outputs": [],
   "source": [
    "# GO Molecular Function\n",
    "#    GO:0002020 Protease Binding\n",
    "#    This GO term has 109 genes of this GO term in the list.\n",
    "GO_terms_list.count('GO:0002020')"
   ]
  },
  {
   "cell_type": "markdown",
   "id": "ece3415a",
   "metadata": {},
   "source": [
    "# <span style=\"color:blue\">Map the genes from our list of Tagert Genes (variable ) using the dictionary mapper that we created previously.</span>"
   ]
  },
  {
   "cell_type": "code",
   "execution_count": null,
   "id": "91acae94",
   "metadata": {},
   "outputs": [],
   "source": [
    "# Create an empty list for the mapped genes (variable mapped_genes).\n",
    "mapped_genes = []\n",
    "    \n",
    " # Traverse the list of Target Genes (variable target_genes).\n",
    "for gene in marker_genes_c0_vs_rest:\n",
    "    # The try statement is completed and the except clause is skipped if there are no errors duirng the mapping process.\n",
    "    try:\n",
    "        # Append the dictionary value for the gene being processed.\n",
    "        mapped_genes.append(mapper[gene])\n",
    "    # If the gene can not be mapped, display the gene name and pass onto the next gene in the list.\n",
    "    except:\n",
    "        # Display the name of the gene that could not be mapped.\n",
    "        print('\\n\\t%s was not mapped.\\n' % (gene))\n",
    "    \n",
    "# Display the amount of genes that were mapped.\n",
    "print(f'\\nMapped genes: {len(mapped_genes)}')\n",
    "\n",
    "# Display the genes that were mapped.\n",
    "print('\\n', mapped_genes)"
   ]
  },
  {
   "cell_type": "markdown",
   "id": "21edba9e",
   "metadata": {},
   "source": [
    "# <span style=\"color:blue\">Perform the Gene Ontology Enrichment Analysis (GOEA)</span>"
   ]
  },
  {
   "cell_type": "code",
   "execution_count": null,
   "id": "881ebede",
   "metadata": {},
   "outputs": [],
   "source": [
    "# Function to perform GOEA on the list of gene symbols.\n",
    "#\n",
    "# Arguments\n",
    "#    test_genes\n",
    "#\n",
    "def gene_ontology_enrichment_analysis(mapped_genes):\n",
    "    # Display the list of target_genes.\n",
    "    print(f'\\nTarget genes: {len(mapped_genes)}', '\\n')\n",
    "        \n",
    "    # Execute the run_study function to perform the Gene Ontology Enrichment Analysis (GOEA).\n",
    "    goea_results_all = goea_obj.run_study(mapped_genes)\n",
    "    \n",
    "    # Filter the results based on the corrected p-value to keep only the significant results.\n",
    "    #    'p_' means \"p-value\".\n",
    "    #    'fdr_bh' is the multiple-test method we are currently using False Discovery Rate (FDR) Benjamini-Hochberg.\n",
    "    goea_results_sig = [result for result in goea_results_all if result.p_fdr_bh < 0.05]\n",
    "    \n",
    "    # Create a visually readable data frame from the significant results.\n",
    "    GO = pd.DataFrame(list(map(lambda x: [x.GO, x.goterm.name, x.goterm.namespace, x.p_uncorrected, x.p_fdr_bh,\\\n",
    "                   x.ratio_in_study[0], x.ratio_in_study[1], GO_terms_list.count(x.GO), list(map(lambda y: inv_map[y], x.study_items)),\\\n",
    "                   ], goea_results_sig)), columns = ['GO', 'term', 'class', 'p', 'p_corr', 'n_genes',\\\n",
    "                                                    'n_study', 'n_go', 'study_genes'])\n",
    "\n",
    "    # Select the GO result with a number of genes greater than 1.\n",
    "    GO = GO[GO.n_genes > 1]\n",
    "    return GO"
   ]
  },
  {
   "cell_type": "code",
   "execution_count": null,
   "id": "26b3807d",
   "metadata": {},
   "outputs": [],
   "source": [
    "# Perform the Gene Ontology Enrichment Analysis\n",
    "goea_data_frame = gene_ontology_enrichment_analysis(mapped_genes)"
   ]
  },
  {
   "cell_type": "markdown",
   "id": "d075618b",
   "metadata": {},
   "source": [
    "# <span style=\"color:blue\">Display the data frame (variable) with the GOEA results sorted.</span>"
   ]
  },
  {
   "cell_type": "code",
   "execution_count": null,
   "id": "528aba02",
   "metadata": {
    "scrolled": false
   },
   "outputs": [],
   "source": [
    "# Sort first by p-value (p_value) and then by p_corr.\n",
    "goea_df_sorted = goea_data_frame.sort_values(['p', 'p_corr'], ascending = [True, True])\n",
    "\n",
    "# Display the data frame for the Gene Ontology Enrichment Analysis.\n",
    "goea_df_sorted"
   ]
  },
  {
   "cell_type": "markdown",
   "id": "f6e8c8b8",
   "metadata": {},
   "source": [
    "# <span style=\"color:blue\">Export the results to a Comma Separated Value (CSV) file.</span>"
   ]
  },
  {
   "cell_type": "code",
   "execution_count": null,
   "id": "bc360d57",
   "metadata": {},
   "outputs": [],
   "source": [
    "# Export the results to a CSV file.\n",
    "goea_df_sorted.to_csv('goae_sorted_goatools_cluster_0.csv')"
   ]
  },
  {
   "cell_type": "markdown",
   "id": "c96fbe06",
   "metadata": {},
   "source": [
    "# <span style=\"color:blue\">Compute the genes ratio from the number of genes obtained divided by the number of genes in the GO term.</span>"
   ]
  },
  {
   "cell_type": "code",
   "execution_count": null,
   "id": "102cccd2",
   "metadata": {},
   "outputs": [],
   "source": [
    "# Compute the genes ratio from the number of genes obtained divided by the number of genes in the GO term.\n",
    "goea_df_sorted['genes_ratio'] = goea_df_sorted.n_genes/goea_df_sorted.n_go"
   ]
  },
  {
   "cell_type": "code",
   "execution_count": null,
   "id": "ffd1d078",
   "metadata": {},
   "outputs": [],
   "source": [
    "# Display the table.\n",
    "goea_df_sorted"
   ]
  },
  {
   "cell_type": "markdown",
   "id": "29a52847",
   "metadata": {},
   "source": [
    "# <span style=\"color:blue\">Load Python libraries to create a plot for the results.</span>"
   ]
  },
  {
   "cell_type": "code",
   "execution_count": null,
   "id": "fe00ac2e",
   "metadata": {},
   "outputs": [],
   "source": [
    "import matplotlib.pyplot as plt\n",
    "import matplotlib as mpl\n",
    "from matplotlib import cm\n",
    "from matplotlib.ticker import (MultipleLocator, AutoMinorLocator)\n",
    "import seaborn as sns\n",
    "import textwrap"
   ]
  },
  {
   "cell_type": "markdown",
   "id": "6072920c",
   "metadata": {},
   "source": [
    "# <span style=\"color:blue\">Select the top 10 results.</span>"
   ]
  },
  {
   "cell_type": "code",
   "execution_count": null,
   "id": "849bfb99",
   "metadata": {},
   "outputs": [],
   "source": [
    "goea_df_sorted_top_10 = goea_df_sorted[0:10]"
   ]
  },
  {
   "cell_type": "markdown",
   "id": "6bb46d61",
   "metadata": {},
   "source": [
    "# <span style=\"color:blue\">Create a color map from the minimum corrected p-value to the maximum corrected p-value.</span>"
   ]
  },
  {
   "cell_type": "code",
   "execution_count": null,
   "id": "0a72c2d9",
   "metadata": {},
   "outputs": [],
   "source": [
    "# Display the minimum and maximum FDR value for Function.\n",
    "print('\\n\\tMinimum FDR =', goea_df_sorted_top_10.p_corr.min())\n",
    "\n",
    "print('\\n\\tMaximum FDR =', goea_df_sorted_top_10.p_corr.max())"
   ]
  },
  {
   "cell_type": "markdown",
   "id": "6e3de6fa",
   "metadata": {},
   "source": [
    "# <span style=\"color:blue\">Generate the barplot with the significant results from our Gene Ontology Enrichment Analysis.</span>"
   ]
  },
  {
   "cell_type": "code",
   "execution_count": null,
   "id": "96267d11",
   "metadata": {},
   "outputs": [],
   "source": [
    "norm = mpl.colors.Normalize(vmin = goea_df_sorted_top_10.p_corr.min(),\n",
    "                            vmax = goea_df_sorted_top_10.p_corr.max())\n",
    "\n",
    "mapper = cm.ScalarMappable(norm = norm, cmap = cm.bwr_r)\n",
    "\n",
    "mapper.set_array([])\n",
    "\n",
    "plt.figure(figsize = (6,10))\n",
    "\n",
    "ax = sns.barplot(data = goea_df_sorted_top_10,\n",
    "                 x = 'genes_ratio',\n",
    "                 y = 'term',\n",
    "                 palette = mapper.to_rgba(goea_df_sorted_top_10.p_corr.values))\n",
    "\n",
    "# Add the values to the bars\n",
    "ax.bar_label(ax.containers[0])\n",
    "\n",
    "ax.figure.colorbar(mapper, ax=ax)\n",
    "\n",
    "ax.set_yticklabels([textwrap.fill(go_term, 22) for go_term in goea_df_sorted_top_10['term']])\n",
    "\n",
    "# Add Plot Title\n",
    "ax.set_title('Barplot for the Gene Ontology terms for Cluster 0',\n",
    "             loc ='center', fontweight ='bold', fontsize = 10)\n",
    "\n",
    "# Adjust the scale of the x-axis.\n",
    "ax.set_xlim(0.0, 0.4)\n",
    "\n",
    "# Add the x-axis label \n",
    "plt.xlabel('Genes ratio', fontweight ='bold', fontsize = 10) \n",
    "\n",
    "# Add the x-axis label \n",
    "plt.ylabel('Gene Ontology Term', fontweight ='bold', fontsize = 10) \n",
    "\n",
    "plt.show()"
   ]
  },
  {
   "cell_type": "markdown",
   "id": "c2401dbb",
   "metadata": {},
   "source": [
    "# <span style=\"color:blue\">Obtain individual results by Function, Process, and Component and select top 10 results.</span>"
   ]
  },
  {
   "cell_type": "code",
   "execution_count": null,
   "id": "c23a37c8",
   "metadata": {},
   "outputs": [],
   "source": [
    "# Class = Molecular Function\n",
    "enrich_goea_df_sig_function = goea_df_sorted[(goea_df_sorted['class'] == 'molecular_function')]\n",
    "\n",
    "# Select the top 10 results for Molecular Function.\n",
    "enrich_goea_df_sig_function_top10 = enrich_goea_df_sig_function[0:10]\n",
    "\n",
    "# Class = Biological Process\n",
    "enrich_goea_df_sig_process = goea_df_sorted[(goea_df_sorted['class'] == 'biological_process')]\n",
    "\n",
    "# Select the top 10 results for Biological Process.\n",
    "enrich_goea_df_sig_process_top10 = enrich_goea_df_sig_process[0:10]\n",
    "\n",
    "# Category = Cellular Component\n",
    "enrich_goea_df_sig_component = goea_df_sorted[(goea_df_sorted['class'] == 'cellular_component')]\n",
    "\n",
    "# Select the top 10 results for Cellular Component.\n",
    "enrich_goea_df_sig_component_top10 = enrich_goea_df_sig_component[0:10]"
   ]
  },
  {
   "cell_type": "markdown",
   "id": "de31d68e",
   "metadata": {},
   "source": [
    "# <span style=\"color:blue\">Generate the barplot with the significant results from our Gene Ontology Enrichment Analysis for Molecular Function.</span>"
   ]
  },
  {
   "cell_type": "markdown",
   "id": "7fb3173a",
   "metadata": {},
   "source": [
    "## <span style=\"color:blue\">Display </span><span style=\"color:red\">top 10 significant gene ontology results</span><span style=\"color:blue\"> for the Molecular Function.</span>"
   ]
  },
  {
   "cell_type": "code",
   "execution_count": null,
   "id": "6855071f",
   "metadata": {},
   "outputs": [],
   "source": [
    "# Display the top 10 significant gene ontology results for the Molecular Function.\n",
    "enrich_goea_df_sig_function_top10"
   ]
  },
  {
   "cell_type": "markdown",
   "id": "0801d837",
   "metadata": {},
   "source": [
    "## <span style=\"color:blue\">Barplot for the Gene Ontology results for Molecular Function with a color map legend from the minimum corrected p-value to the maximum corrected p-value.</span>"
   ]
  },
  {
   "cell_type": "code",
   "execution_count": null,
   "id": "dfb53646",
   "metadata": {},
   "outputs": [],
   "source": [
    "# Display the minimum and maximum FDR value for Function.\n",
    "print('Category = Molecular Function')\n",
    "print('\\n\\tMinimum FDR =', enrich_goea_df_sig_function_top10['p_corr'].min())\n",
    "\n",
    "print('\\n\\tMaximum FDR =', enrich_goea_df_sig_function_top10['p_corr'].max())"
   ]
  },
  {
   "cell_type": "code",
   "execution_count": null,
   "id": "0c710853",
   "metadata": {},
   "outputs": [],
   "source": [
    "norm = mpl.colors.Normalize(vmin = enrich_goea_df_sig_function_top10['p_corr'].min(),\n",
    "                            vmax = enrich_goea_df_sig_function_top10['p_corr'].max())\n",
    "\n",
    "mapper = cm.ScalarMappable(norm = norm, cmap = cm.bwr_r)\n",
    "\n",
    "fig, ax = plt.subplots(figsize = (5, 5))\n",
    "\n",
    "ax = sns.barplot(data = enrich_goea_df_sig_function_top10,\n",
    "                 x = enrich_goea_df_sig_function_top10['genes_ratio'],\n",
    "                 y = enrich_goea_df_sig_function_top10['term'],\n",
    "                 palette = mapper.to_rgba(enrich_goea_df_sig_function_top10['p_corr']),\n",
    "                 dodge=False)\n",
    "\n",
    "# Add the values to the bars\n",
    "ax.bar_label(ax.containers[0])\n",
    "\n",
    "ax.figure.colorbar(mapper, ax=ax)\n",
    "\n",
    "ax.set_yticklabels([textwrap.fill(go_term, 22) for go_term in enrich_goea_df_sig_function_top10['term']])\n",
    "\n",
    "# Add Plot Title\n",
    "ax.set_title('Barplot for Molecular Function GO terms\\nfor Cluster 0',\n",
    "             loc ='center', fontweight ='bold', fontsize = 10)\n",
    "\n",
    "# Adjust the scale of the x-axis.\n",
    "ax.set_xlim(0.0, 0.2)\n",
    "\n",
    "# Add minor ticks.\n",
    "ax.xaxis.set_minor_locator(AutoMinorLocator())\n",
    "\n",
    "# Add the x-axis label \n",
    "plt.xlabel('Genes ratio', fontweight ='bold', fontsize = 10) \n",
    "\n",
    "# Add the x-axis label \n",
    "plt.ylabel('Gene Ontology Term', fontweight ='bold', fontsize = 10)\n",
    "\n",
    "plt.show()"
   ]
  },
  {
   "cell_type": "markdown",
   "id": "bc09afb5",
   "metadata": {},
   "source": [
    "# <span style=\"color:blue\">Generate the barplot with the significant results from our Gene Ontology Enrichment Analysis for Biological Process.</span>"
   ]
  },
  {
   "cell_type": "markdown",
   "id": "e8f03100",
   "metadata": {},
   "source": [
    "## <span style=\"color:blue\">Display </span><span style=\"color:red\">top 10 significant gene ontology results</span><span style=\"color:blue\"> for the Biological Process.</span>"
   ]
  },
  {
   "cell_type": "code",
   "execution_count": null,
   "id": "8d0748f2",
   "metadata": {},
   "outputs": [],
   "source": [
    "# Display the top 10 significant gene ontology results for the Molecular Function.\n",
    "enrich_goea_df_sig_process_top10"
   ]
  },
  {
   "cell_type": "markdown",
   "id": "09cdf537",
   "metadata": {},
   "source": [
    "## <span style=\"color:blue\">Barplot for the Gene Ontology results for Biological Process with a color map legend from the minimum corrected p-value to the maximum corrected p-value.</span>"
   ]
  },
  {
   "cell_type": "code",
   "execution_count": null,
   "id": "016cbdf3",
   "metadata": {},
   "outputs": [],
   "source": [
    "# Display the minimum and maximum FDR value for Function.\n",
    "print('Category = Biological Process')\n",
    "print('\\n\\tMinimum FDR =', enrich_goea_df_sig_process_top10['p_corr'].min())\n",
    "\n",
    "print('\\n\\tMaximum FDR =', enrich_goea_df_sig_process_top10['p_corr'].max())"
   ]
  },
  {
   "cell_type": "code",
   "execution_count": null,
   "id": "b47b33b2",
   "metadata": {},
   "outputs": [],
   "source": [
    "norm = mpl.colors.Normalize(vmin = enrich_goea_df_sig_process_top10['p_corr'].min(),\n",
    "                            vmax = enrich_goea_df_sig_process_top10['p_corr'].max())\n",
    "\n",
    "mapper = cm.ScalarMappable(norm = norm, cmap = cm.bwr_r)\n",
    "\n",
    "fig, ax = plt.subplots(figsize = (5, 5))\n",
    "\n",
    "ax = sns.barplot(data = enrich_goea_df_sig_process_top10,\n",
    "                 x = enrich_goea_df_sig_process_top10['genes_ratio'],\n",
    "                 y = enrich_goea_df_sig_process_top10['term'],\n",
    "                 palette = mapper.to_rgba(enrich_goea_df_sig_process_top10['p_corr']),\n",
    "                 dodge=False)\n",
    "\n",
    "# Add the values to the bars\n",
    "ax.bar_label(ax.containers[0])\n",
    "\n",
    "ax.figure.colorbar(mapper, ax=ax)\n",
    "\n",
    "ax.set_yticklabels([textwrap.fill(go_term, 22) for go_term in enrich_goea_df_sig_process_top10['term']])\n",
    "\n",
    "# Add Plot Title\n",
    "ax.set_title('Barplot for Biological Process GO terms\\nfor Cluster 0',\n",
    "             loc ='center', fontweight ='bold', fontsize = 10)\n",
    "\n",
    "# Adjust the scale of the x-axis.\n",
    "ax.set_xlim(0.0, 0.35)\n",
    "\n",
    "# Add minor ticks.\n",
    "ax.xaxis.set_minor_locator(AutoMinorLocator())\n",
    "\n",
    "# Add the x-axis label \n",
    "plt.xlabel('Genes ratio', fontweight ='bold', fontsize = 10) \n",
    "\n",
    "# Add the x-axis label \n",
    "plt.ylabel('Gene Ontology Term', fontweight ='bold', fontsize = 10)\n",
    "\n",
    "plt.show()"
   ]
  },
  {
   "cell_type": "markdown",
   "id": "fa04d8d3",
   "metadata": {},
   "source": [
    "# <span style=\"color:blue\">Generate the barplot with the significant results from our Gene Ontology Enrichment Analysis for Cellular Component.</span>"
   ]
  },
  {
   "cell_type": "markdown",
   "id": "7364923c",
   "metadata": {},
   "source": [
    "## <span style=\"color:blue\">Display the </span><span style=\"color:red\">top 10 significant gene ontology results</span><span style=\"color:blue\"> for the Cellular Component.</span>"
   ]
  },
  {
   "cell_type": "code",
   "execution_count": null,
   "id": "6d29f31e",
   "metadata": {},
   "outputs": [],
   "source": [
    "# Display the top 10 significant gene ontology results for the Molecular Function.\n",
    "enrich_goea_df_sig_component_top10"
   ]
  },
  {
   "cell_type": "markdown",
   "id": "ef216697",
   "metadata": {},
   "source": [
    "## <span style=\"color:blue\">Barplot for the Gene Ontology results for Cellular Component with a color map legend from the minimum corrected p-value to the maximum corrected p-value.</span>"
   ]
  },
  {
   "cell_type": "code",
   "execution_count": null,
   "id": "7341a4ea",
   "metadata": {},
   "outputs": [],
   "source": [
    "# Display the minimum and maximum FDR value for Function.\n",
    "print('Category = Cellular Component')\n",
    "print('\\n\\tMinimum FDR =', enrich_goea_df_sig_component_top10['p_corr'].min())\n",
    "\n",
    "print('\\n\\tMaximum FDR =', enrich_goea_df_sig_component_top10['p_corr'].max())"
   ]
  },
  {
   "cell_type": "code",
   "execution_count": null,
   "id": "7c57a46c",
   "metadata": {},
   "outputs": [],
   "source": [
    "norm = mpl.colors.Normalize(vmin = enrich_goea_df_sig_component_top10['p_corr'].min(),\n",
    "                            vmax = enrich_goea_df_sig_component_top10['p_corr'].max())\n",
    "\n",
    "mapper = cm.ScalarMappable(norm = norm, cmap = cm.bwr_r)\n",
    "\n",
    "fig, ax = plt.subplots(figsize = (5, 5))\n",
    "\n",
    "ax = sns.barplot(data = enrich_goea_df_sig_component_top10,\n",
    "                 x = enrich_goea_df_sig_component_top10['genes_ratio'],\n",
    "                 y = enrich_goea_df_sig_component_top10['term'],\n",
    "                 palette = mapper.to_rgba(enrich_goea_df_sig_component_top10['p_corr']),\n",
    "                 dodge=False)\n",
    "\n",
    "# Add the values to the bars\n",
    "ax.bar_label(ax.containers[0])\n",
    "\n",
    "ax.figure.colorbar(mapper, ax=ax)\n",
    "\n",
    "ax.set_yticklabels([textwrap.fill(go_term, 22) for go_term in enrich_goea_df_sig_component_top10['term']])\n",
    "\n",
    "# Add Plot Title\n",
    "ax.set_title('Barplot for Cellular Component GO terms\\nfor Cluster 0',\n",
    "             loc ='center', fontweight ='bold', fontsize = 10)\n",
    "\n",
    "# Adjust the scale of the x-axis.\n",
    "ax.set_xlim(0.0, 0.5)\n",
    "\n",
    "# Add minor ticks.\n",
    "ax.xaxis.set_minor_locator(AutoMinorLocator())\n",
    "\n",
    "# Add the x-axis label \n",
    "plt.xlabel('Genes ratio', fontweight ='bold', fontsize = 10) \n",
    "\n",
    "# Add the x-axis label \n",
    "plt.ylabel('Gene Ontology Term', fontweight ='bold', fontsize = 10)\n",
    "\n",
    "plt.show()"
   ]
  },
  {
   "cell_type": "code",
   "execution_count": null,
   "id": "8b81a91b",
   "metadata": {},
   "outputs": [],
   "source": []
  }
 ],
 "metadata": {
  "kernelspec": {
   "display_name": "Python 3 (ipykernel)",
   "language": "python",
   "name": "python3"
  },
  "language_info": {
   "codemirror_mode": {
    "name": "ipython",
    "version": 3
   },
   "file_extension": ".py",
   "mimetype": "text/x-python",
   "name": "python",
   "nbconvert_exporter": "python",
   "pygments_lexer": "ipython3",
   "version": "3.9.13"
  }
 },
 "nbformat": 4,
 "nbformat_minor": 5
}
